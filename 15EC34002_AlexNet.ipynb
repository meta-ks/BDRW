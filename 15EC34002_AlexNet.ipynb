{
 "cells": [
  {
   "cell_type": "markdown",
   "metadata": {
    "colab_type": "text",
    "id": "QmTM9I1GG4_b"
   },
   "source": [
    "# AI61002_Spr2020\n",
    "## Project 1: BDRW using AlexNet and SGD"
   ]
  },
  {
   "cell_type": "code",
   "execution_count": 29,
   "metadata": {
    "colab": {},
    "colab_type": "code",
    "id": "Cfinfxo0G4_k"
   },
   "outputs": [],
   "source": [
    "%matplotlib inline\n",
    "import torch\n",
    "import numpy as np\n",
    "import torch.nn as nn\n",
    "import torch.nn.functional as F\n",
    "import matplotlib.pyplot as plt\n",
    "from torchvision import transforms, datasets\n",
    "import torchvision.transforms.functional as TF\n",
    "from torch.utils.data import DataLoader, Dataset\n",
    "import torch.optim as optim\n",
    "import torchvision.models as models\n",
    "import pandas as pd\n",
    "from PIL import Image, ImageOps\n",
    "from skimage import io, util\n",
    "from skimage.io._plugins.pil_plugin import pil_to_ndarray, ndarray_to_pil\n",
    "import os\n",
    "import random\n",
    "import albumentations\n",
    "import cv2"
   ]
  },
  {
   "cell_type": "markdown",
   "metadata": {
    "colab_type": "text",
    "id": "I-K0-cuXG4_3"
   },
   "source": [
    "### Creating custom Data Loader"
   ]
  },
  {
   "cell_type": "code",
   "execution_count": 30,
   "metadata": {
    "colab": {},
    "colab_type": "code",
    "id": "ZBTGCEI57z3m"
   },
   "outputs": [],
   "source": [
    "class BDRW_Dataset(Dataset):\n",
    "    \"\"\"Custom dataset for BDRW\"\"\"\n",
    "    \n",
    "    def __init__(self, train, xls_file, root_dir, transform=None, train_sz=1000):\n",
    "        #Reading the xls file containing the labels\n",
    "        self.whole_df = pd.read_excel(f'{ROOT_DIR}/{xls_file}', header=None)\n",
    "        \n",
    "        #Splitting the available data for training and testing\n",
    "        if train:\n",
    "            self.label_df = self.whole_df.iloc[0:train_sz, :]\n",
    "        else:\n",
    "            self.label_df = self.whole_df.iloc[train_sz:, :]\n",
    "            \n",
    "        self.root_dir = root_dir\n",
    "        self.transform = transform\n",
    "        self.train = train\n",
    "        \n",
    "    def __len__(self):\n",
    "        return len(self.label_df)\n",
    "    \n",
    "    def __getitem__(self, idx):\n",
    "        #print(f'Attempting to get item:{idx}')\n",
    "        if torch.is_tensor(idx):\n",
    "            idx = idx.tolist() \n",
    "        #Getting the path of image name\n",
    "        img_name = os.path.join(self.root_dir, self.label_df.iloc[idx, 0]+'.jpg')\n",
    "        #img = transforms.functional.to_grayscale(Image.open(img_name))\n",
    "        img = Image.open(img_name)\n",
    "        #img = cv2.imread(img_name)\n",
    "        label = self.label_df.iloc[idx, 1]\n",
    "        \n",
    "        if self.transform is not None:\n",
    "            img = self.transform(img)\n",
    "        \n",
    "        return img, label\n",
    "    "
   ]
  },
  {
   "cell_type": "code",
   "execution_count": 31,
   "metadata": {
    "colab": {},
    "colab_type": "code",
    "id": "7y0KhKYx7z3r"
   },
   "outputs": [],
   "source": [
    "class CustomTransforms:\n",
    "    \"\"\"Custom Transforms for Data Augmentation\"\"\"\n",
    "    \n",
    "    def __init__(self, train=True):\n",
    "        self.train = train\n",
    "    \n",
    "    def __call__(self, img):        \n",
    "        #img = self.do_random_transform(img)    \n",
    "        if random.random() > 0.5:\n",
    "            img = ImageOps.invert(img)\n",
    "            \n",
    "        if random.random() > 0.5:\n",
    "            print('color extraction')\n",
    "            img = np.array(img)\n",
    "            dims = random.sample([0,1,2], 2)\n",
    "            for dim in dims:\n",
    "                img[:,:,dim] = 0\n",
    "            img = Image.fromarray(np.uint8(img))\n",
    "            \n",
    "        if random.random() > 5:\n",
    "            print('color manip')\n",
    "            img = np.array(img)\n",
    "            for dim in [0,1,2]:\n",
    "                img[:,:,dim] = np.mean(img)\n",
    "            img = Image.fromarray(np.uint8(img))\n",
    "            \n",
    "\n",
    "        return img\n",
    "    \n",
    "    def do_random_transform(self, img):\n",
    "        tf_dict = {0:None, 1:'gaussian_noise', 2:'blur', 3:'sharpen', 4:'brightness_offset'}\n",
    "        rand_choice = random.choice([*tf_dict])\n",
    "\n",
    "        if rand_choice == 0:\n",
    "            aug = None\n",
    "        elif rand_choice == 1:\n",
    "            #img = pil_to_ndarray(img)\n",
    "            #img = util.random_noise(img)\n",
    "            #img = ndarray_to_pil(img)\n",
    "            aug = None#albumentations.GaussNoise(always_apply=True)\n",
    "        elif rand_choice == 2:\n",
    "            aug = albumentations.GaussianBlur(always_apply=True)\n",
    "        else:\n",
    "            aug = None\n",
    "        \n",
    "        if aug is not None:\n",
    "            img = self.perform_alb_tf(img, aug)\n",
    "        return img\n",
    "    \n",
    "    def perform_alb_tf(self, img, aug):\n",
    "        img = aug(image=img)['image']\n",
    "        #plt.figure(figsize=(3,3))\n",
    "        #plt.imshow(img.view(32,32), cmap='gray')\n",
    "        return img\n"
   ]
  },
  {
   "cell_type": "markdown",
   "metadata": {
    "colab_type": "text",
    "id": "4TXIxP-F7z3v"
   },
   "source": [
    "### Load data"
   ]
  },
  {
   "cell_type": "code",
   "execution_count": 32,
   "metadata": {
    "colab": {},
    "colab_type": "code",
    "id": "Nfq0POqlG4_6"
   },
   "outputs": [],
   "source": [
    "ROOT_DIR = 'BDRW_files'  # This should contain the image files and the xls label file\n",
    "label_file = 'labels.xls'\n",
    "train_sz = 1000          # Size of training dataset \n",
    "IMG_SZ = 256\n",
    "\n",
    "# Thsese image transforms are to be applied before training\n",
    "cust_transform = CustomTransforms()\n",
    "train_transform = transforms.Compose([#transforms.Grayscale(num_output_channels=1),\n",
    "                                      transforms.Resize((IMG_SZ, IMG_SZ)),\n",
    "                                      cust_transform,\n",
    "                                      transforms.ToTensor(),\n",
    "                                      #transforms.Normalize(mean=[0.485, 0.456, 0.406],std=[0.229, 0.224, 0.225])\n",
    "                                      #cust_transform,\n",
    "                                     ])\n",
    "\n",
    "test_transform = transforms.Compose([#transforms.Grayscale(num_output_channels=1),\n",
    "                                      transforms.Resize((IMG_SZ, IMG_SZ)),\n",
    "                                      transforms.ToTensor(),\n",
    "                                      #transforms.Normalize(mean=[0.485, 0.456, 0.406],std=[0.229, 0.224, 0.225])\n",
    "                                     ])\n",
    "BatchSize = 8 # change according to system specs\n",
    "\n",
    "# Instantiating training set\n",
    "trainset = BDRW_Dataset(train=True, xls_file=label_file, root_dir=ROOT_DIR,\n",
    "                        transform=train_transform, train_sz=train_sz)\n",
    "trainLoader = torch.utils.data.DataLoader(trainset, batch_size=BatchSize,\n",
    "                                          shuffle=True, num_workers=4) # Creating dataloader\n",
    "\n",
    "# Instantiating test set\n",
    "testset = BDRW_Dataset(train=False, xls_file=label_file, root_dir=ROOT_DIR,\n",
    "                       transform=test_transform, train_sz=train_sz)\n",
    "testLoader = torch.utils.data.DataLoader(testset, batch_size=BatchSize,\n",
    "                                         shuffle=False, num_workers=4) # Creating dataloader\n",
    "test_sz = len(testLoader.dataset)"
   ]
  },
  {
   "cell_type": "code",
   "execution_count": 33,
   "metadata": {
    "colab": {
     "base_uri": "https://localhost:8080/",
     "height": 302
    },
    "colab_type": "code",
    "id": "YL-oc-v_G5AL",
    "outputId": "662ee036-b1d6-43a7-dc6f-91ce9379b0a5"
   },
   "outputs": [
    {
     "name": "stdout",
     "output_type": "stream",
     "text": [
      "[0] label: 1 torch.Size([3, 256, 256])\n"
     ]
    },
    {
     "data": {
      "image/png": "[encoded data removed]",
      "text/plain": [
       "<Figure size 432x288 with 1 Axes>"
      ]
     },
     "metadata": {
      "needs_background": "light"
     },
     "output_type": "display_data"
    }
   ],
   "source": [
    "# Size of train and test datasets\n",
    "#print('No. of samples in train set: '+str(len(trainLoader.dataset)))\n",
    "#print('No. of samples in test set: '+str(len(testLoader.dataset)))\n",
    "def show_tensor_img(img):\n",
    "    #print(im)\n",
    "    plt.imshow(img.permute(1,2,0))    \n",
    "    #plt.imshow(img)\n",
    "    #plt.imshow(im.view(32,32), cmap='gray')\n",
    "    plt.show()\n",
    "    \n",
    "for i, d in enumerate(trainset):\n",
    "    im, l = d\n",
    "    print(f'[{i}] label:',l, im.shape)\n",
    "    show_tensor_img(im)\n",
    "    \n",
    "    break"
   ]
  },
  {
   "cell_type": "markdown",
   "metadata": {
    "colab_type": "text",
    "id": "baMuFJ1ZG5Am"
   },
   "source": [
    "### Define model architecture"
   ]
  },
  {
   "cell_type": "code",
   "execution_count": 34,
   "metadata": {
    "colab": {},
    "colab_type": "code",
    "id": "kpbKjmM97z34"
   },
   "outputs": [],
   "source": [
    "class AlexNet(nn.Module):\n",
    "    def __init__(self, num_classes=10):\n",
    "        super(AlexNet, self).__init__()\n",
    "        self.features = nn.Sequential(\n",
    "            nn.Conv2d(3, 64, kernel_size=11, stride=4, padding=2),\n",
    "            nn.ReLU(inplace=True),\n",
    "            nn.MaxPool2d(kernel_size=3, stride=2),\n",
    "            nn.Conv2d(64, 192, kernel_size=5, padding=2),\n",
    "            nn.ReLU(inplace=True),\n",
    "            nn.MaxPool2d(kernel_size=3, stride=2),\n",
    "            nn.Conv2d(192, 384, kernel_size=3, padding=1),\n",
    "            nn.ReLU(inplace=True),\n",
    "            nn.Conv2d(384, 256, kernel_size=3, padding=1),\n",
    "            nn.ReLU(inplace=True),\n",
    "            nn.Conv2d(256, 256, kernel_size=3, padding=1),\n",
    "            nn.ReLU(inplace=True),\n",
    "            nn.MaxPool2d(kernel_size=3, stride=2),\n",
    "        )\n",
    "        self.avgpool = nn.AdaptiveAvgPool2d((6, 6))\n",
    "        self.classifier = nn.Sequential(\n",
    "            nn.Dropout(),\n",
    "            nn.Linear(256 * 6 * 6, 4096),\n",
    "            nn.ReLU(inplace=True),\n",
    "            nn.Dropout(),\n",
    "            nn.Linear(4096, 4096),\n",
    "            nn.ReLU(inplace=True),\n",
    "            nn.Linear(4096, num_classes),\n",
    "        )\n",
    "\n",
    "    def forward(self, x):\n",
    "        x = self.features(x)\n",
    "        x = self.avgpool(x)\n",
    "        x = torch.flatten(x, 1)\n",
    "        x = self.classifier(x)\n",
    "        return x"
   ]
  },
  {
   "cell_type": "code",
   "execution_count": 35,
   "metadata": {
    "colab": {
     "base_uri": "https://localhost:8080/",
     "height": 487
    },
    "colab_type": "code",
    "id": "YOz8WKCaG5A4",
    "outputId": "c14565f1-b1f1-450d-8173-c1c85777ba33"
   },
   "outputs": [
    {
     "name": "stdout",
     "output_type": "stream",
     "text": [
      "AlexNet(\n",
      "  (features): Sequential(\n",
      "    (0): Conv2d(3, 64, kernel_size=(11, 11), stride=(4, 4), padding=(2, 2))\n",
      "    (1): ReLU(inplace=True)\n",
      "    (2): MaxPool2d(kernel_size=3, stride=2, padding=0, dilation=1, ceil_mode=False)\n",
      "    (3): Conv2d(64, 192, kernel_size=(5, 5), stride=(1, 1), padding=(2, 2))\n",
      "    (4): ReLU(inplace=True)\n",
      "    (5): MaxPool2d(kernel_size=3, stride=2, padding=0, dilation=1, ceil_mode=False)\n",
      "    (6): Conv2d(192, 384, kernel_size=(3, 3), stride=(1, 1), padding=(1, 1))\n",
      "    (7): ReLU(inplace=True)\n",
      "    (8): Conv2d(384, 256, kernel_size=(3, 3), stride=(1, 1), padding=(1, 1))\n",
      "    (9): ReLU(inplace=True)\n",
      "    (10): Conv2d(256, 256, kernel_size=(3, 3), stride=(1, 1), padding=(1, 1))\n",
      "    (11): ReLU(inplace=True)\n",
      "    (12): MaxPool2d(kernel_size=3, stride=2, padding=0, dilation=1, ceil_mode=False)\n",
      "  )\n",
      "  (avgpool): AdaptiveAvgPool2d(output_size=(6, 6))\n",
      "  (classifier): Sequential(\n",
      "    (0): Dropout(p=0.5, inplace=False)\n",
      "    (1): Linear(in_features=9216, out_features=4096, bias=True)\n",
      "    (2): ReLU(inplace=True)\n",
      "    (3): Dropout(p=0.5, inplace=False)\n",
      "    (4): Linear(in_features=4096, out_features=4096, bias=True)\n",
      "    (5): ReLU(inplace=True)\n",
      "    (6): Linear(in_features=4096, out_features=1000, bias=True)\n",
      "  )\n",
      ")\n"
     ]
    }
   ],
   "source": [
    "use_gpu = torch.cuda.is_available()\n",
    "#resnet18 = models.resnet18()\n",
    "alexnet = models.alexnet()\n",
    "#vgg16 = models.vgg16()\n",
    "#squeezenet = models.squeezenet1_0()\n",
    "#densenet = models.densenet161()\n",
    "#inception = models.inception_v3()\n",
    "#googlenet = models.googlenet()\n",
    "#shufflenet = models.shufflenet_v2_x1_0()\n",
    "#mobilenet = models.mobilenet_v2()\n",
    "#resnext50_32x4d = models.resnext50_32x4d()\n",
    "#wide_resnet50_2 = models.wide_resnet50_2()\n",
    "#mnasnet = models.mnasnet1_0()\n",
    "#net = LeNet()\n",
    "#net = AlexNet()\n",
    "net = alexnet\n",
    "print(net)\n",
    "if use_gpu:\n",
    "    print('GPU is avaialble!')\n",
    "    net = net.cuda()"
   ]
  },
  {
   "cell_type": "markdown",
   "metadata": {
    "colab_type": "text",
    "id": "QMnBFkvWG5BL"
   },
   "source": [
    "### Train model"
   ]
  },
  {
   "cell_type": "code",
   "execution_count": 36,
   "metadata": {
    "colab": {
     "base_uri": "https://localhost:8080/",
     "height": 1000
    },
    "colab_type": "code",
    "id": "LjFFgE-LG5BN",
    "outputId": "67dd770f-e17b-4921-9cb7-a6fbcc86d11c"
   },
   "outputs": [
    {
     "name": "stdout",
     "output_type": "stream",
     "text": [
      "\n",
      "[*] Training with learning rate: 0.01\n",
      "color extraction\n",
      "color extraction\n",
      "color extraction\n",
      "color extraction\n",
      "color extraction\n",
      "color extraction\n",
      "color extraction\n",
      "color extraction\n",
      "color extraction\n",
      "color extraction\n",
      "color extraction\n",
      "color extraction\n",
      "color extraction\n",
      "color extraction\n",
      "color extraction\n",
      "color extraction\n",
      "color extraction\n",
      "color extraction\n",
      "color extraction\n",
      "color extraction\n",
      "color extraction\n",
      "color extraction\n",
      "color extraction\n",
      "color extraction\n",
      "color extraction\n",
      "color extraction\n",
      "color extraction\n",
      "color extraction\n",
      "color extraction\n",
      "color extraction\n",
      "color extraction\n",
      "color extraction\n",
      "color extraction\n",
      "color extraction\n",
      "color extraction\n",
      "color extraction\n",
      "color extraction\n",
      "color extraction\n",
      "color extraction\n",
      "color extraction\n",
      "color extraction\n",
      "color extraction\n",
      "color extraction\n",
      "color extraction\n",
      "color extraction\n",
      "color extraction\n",
      "color extraction\n",
      "color extraction\n",
      "color extraction\n",
      "color extraction\n",
      "color extraction\n"
     ]
    },
    {
     "ename": "KeyboardInterrupt",
     "evalue": "",
     "output_type": "error",
     "traceback": [
      "\u001b[0;31m---------------------------------------------------------------------------\u001b[0m",
      "\u001b[0;31mKeyboardInterrupt\u001b[0m                         Traceback (most recent call last)",
      "\u001b[0;32m<ipython-input-36-e50be1cb6fdb>\u001b[0m in \u001b[0;36m<module>\u001b[0;34m\u001b[0m\n\u001b[1;32m     36\u001b[0m             \u001b[0;31m# Finding the loss\u001b[0m\u001b[0;34m\u001b[0m\u001b[0;34m\u001b[0m\u001b[0;34m\u001b[0m\u001b[0m\n\u001b[1;32m     37\u001b[0m             \u001b[0mloss\u001b[0m \u001b[0;34m=\u001b[0m \u001b[0mcriterion\u001b[0m\u001b[0;34m(\u001b[0m\u001b[0moutputs\u001b[0m\u001b[0;34m,\u001b[0m \u001b[0mlabels\u001b[0m\u001b[0;34m)\u001b[0m\u001b[0;34m\u001b[0m\u001b[0;34m\u001b[0m\u001b[0m\n\u001b[0;32m---> 38\u001b[0;31m             \u001b[0mloss\u001b[0m\u001b[0;34m.\u001b[0m\u001b[0mbackward\u001b[0m\u001b[0;34m(\u001b[0m\u001b[0;34m)\u001b[0m\u001b[0;34m\u001b[0m\u001b[0;34m\u001b[0m\u001b[0m\n\u001b[0m\u001b[1;32m     39\u001b[0m \u001b[0;34m\u001b[0m\u001b[0m\n\u001b[1;32m     40\u001b[0m             \u001b[0;31m#Batch update\u001b[0m\u001b[0;34m\u001b[0m\u001b[0;34m\u001b[0m\u001b[0;34m\u001b[0m\u001b[0m\n",
      "\u001b[0;32m~/anaconda3/lib/python3.7/site-packages/torch/tensor.py\u001b[0m in \u001b[0;36mbackward\u001b[0;34m(self, gradient, retain_graph, create_graph)\u001b[0m\n\u001b[1;32m    164\u001b[0m                 \u001b[0mproducts\u001b[0m\u001b[0;34m.\u001b[0m \u001b[0mDefaults\u001b[0m \u001b[0mto\u001b[0m\u001b[0;31m \u001b[0m\u001b[0;31m`\u001b[0m\u001b[0;31m`\u001b[0m\u001b[0;32mFalse\u001b[0m\u001b[0;31m`\u001b[0m\u001b[0;31m`\u001b[0m\u001b[0;34m.\u001b[0m\u001b[0;34m\u001b[0m\u001b[0;34m\u001b[0m\u001b[0m\n\u001b[1;32m    165\u001b[0m         \"\"\"\n\u001b[0;32m--> 166\u001b[0;31m         \u001b[0mtorch\u001b[0m\u001b[0;34m.\u001b[0m\u001b[0mautograd\u001b[0m\u001b[0;34m.\u001b[0m\u001b[0mbackward\u001b[0m\u001b[0;34m(\u001b[0m\u001b[0mself\u001b[0m\u001b[0;34m,\u001b[0m \u001b[0mgradient\u001b[0m\u001b[0;34m,\u001b[0m \u001b[0mretain_graph\u001b[0m\u001b[0;34m,\u001b[0m \u001b[0mcreate_graph\u001b[0m\u001b[0;34m)\u001b[0m\u001b[0;34m\u001b[0m\u001b[0;34m\u001b[0m\u001b[0m\n\u001b[0m\u001b[1;32m    167\u001b[0m \u001b[0;34m\u001b[0m\u001b[0m\n\u001b[1;32m    168\u001b[0m     \u001b[0;32mdef\u001b[0m \u001b[0mregister_hook\u001b[0m\u001b[0;34m(\u001b[0m\u001b[0mself\u001b[0m\u001b[0;34m,\u001b[0m \u001b[0mhook\u001b[0m\u001b[0;34m)\u001b[0m\u001b[0;34m:\u001b[0m\u001b[0;34m\u001b[0m\u001b[0;34m\u001b[0m\u001b[0m\n",
      "\u001b[0;32m~/anaconda3/lib/python3.7/site-packages/torch/autograd/__init__.py\u001b[0m in \u001b[0;36mbackward\u001b[0;34m(tensors, grad_tensors, retain_graph, create_graph, grad_variables)\u001b[0m\n\u001b[1;32m     97\u001b[0m     Variable._execution_engine.run_backward(\n\u001b[1;32m     98\u001b[0m         \u001b[0mtensors\u001b[0m\u001b[0;34m,\u001b[0m \u001b[0mgrad_tensors\u001b[0m\u001b[0;34m,\u001b[0m \u001b[0mretain_graph\u001b[0m\u001b[0;34m,\u001b[0m \u001b[0mcreate_graph\u001b[0m\u001b[0;34m,\u001b[0m\u001b[0;34m\u001b[0m\u001b[0;34m\u001b[0m\u001b[0m\n\u001b[0;32m---> 99\u001b[0;31m         allow_unreachable=True)  # allow_unreachable flag\n\u001b[0m\u001b[1;32m    100\u001b[0m \u001b[0;34m\u001b[0m\u001b[0m\n\u001b[1;32m    101\u001b[0m \u001b[0;34m\u001b[0m\u001b[0m\n",
      "\u001b[0;31mKeyboardInterrupt\u001b[0m: "
     ]
    }
   ],
   "source": [
    "criterion = nn.CrossEntropyLoss() \n",
    "#learning_rate_list = [0.001, 0.005, 0.01, 0.05, 0.1]\n",
    "learning_rate_list = [0.01]\n",
    "train_acc_list = []\n",
    "train_loss_list = []\n",
    "#learning_rate = 0.01\n",
    "net.train()\n",
    "\n",
    "for learning_rate in learning_rate_list:\n",
    "    print(f'\\n[*] Training with learning rate: {learning_rate}')\n",
    "    #Re-initialising the network for fresh training\n",
    "    #net = LeNet()\n",
    "    #net = AlexNet()\n",
    "    num_epochs = 80\n",
    "    optimizer = optim.SGD(net.parameters(), lr=learning_rate)\n",
    "    lr_scheduler = optim.lr_scheduler.ReduceLROnPlateau(optimizer, patience=20)\n",
    "    train_loss = []\n",
    "    train_acc = []\n",
    "    \n",
    "    for epoch in range(num_epochs):\n",
    "        running_loss = 0.0 \n",
    "        running_corr = 0\n",
    "\n",
    "        for i,data in enumerate(trainLoader):\n",
    "            inputs,labels = data\n",
    "            if use_gpu:\n",
    "                inputs, labels = inputs.cuda(),labels.cuda() \n",
    "            # Initializing model gradients to zero\n",
    "            #net.zero_grad() \n",
    "            optimizer.zero_grad()\n",
    "            # Data feed-forward through the network\n",
    "            outputs = net(inputs)\n",
    "            #outputs = net(inputs).logits\n",
    "            # Predicted class is the one with maximum probability\n",
    "            preds = torch.argmax(outputs,dim=1)\n",
    "            # Finding the loss\n",
    "            loss = criterion(outputs, labels)\n",
    "            loss.backward()\n",
    "            \n",
    "            #Batch update\n",
    "            optimizer.step()\n",
    "            # Accumulating the loss for each batch\n",
    "            running_loss += loss \n",
    "            # Accumulate number of correct predictions\n",
    "            running_corr += torch.sum(preds==labels)    \n",
    "            #break\n",
    "\n",
    "        #Epoch update\n",
    "        #totalLoss = running_loss/(i+1)\n",
    "        # Calculating gradients\n",
    "        #totalLoss.backward()\n",
    "        # Updating the model parameters\n",
    "        #optimizer.step()\n",
    "        #for f in net.parameters():\n",
    "            #f.data.sub_(f.grad.data * learning_rate)\n",
    "            #print(f.data)\n",
    "\n",
    "        epoch_loss = running_loss.item()/(i+1)   #Total loss for one epoch\n",
    "        epoch_acc = running_corr.item()/train_sz\n",
    "\n",
    "        train_loss.append(epoch_loss) #Saving the loss over epochs for plotting the graph\n",
    "        train_acc.append(epoch_acc) #Saving the accuracy over epochs for plotting the graph\n",
    "\n",
    "        lr_scheduler.step(epoch_loss)\n",
    "\n",
    "        print('Epoch {:.0f}/{:.0f} : Training loss: {:.4f} | Training Accuracy: {:.4f}'.format(epoch+1,num_epochs,epoch_loss,epoch_acc*100))              \n",
    "        \n",
    "    train_loss_list.append(train_loss)\n",
    "    train_acc_list.append(train_acc)\n",
    "    #plot_Plots(train_loss, train_acc)"
   ]
  },
  {
   "cell_type": "code",
   "execution_count": 41,
   "metadata": {},
   "outputs": [
    {
     "name": "stdout",
     "output_type": "stream",
     "text": [
      "torch.Size([8])\n"
     ]
    }
   ],
   "source": [
    "print(labels.shape)"
   ]
  },
  {
   "cell_type": "code",
   "execution_count": null,
   "metadata": {
    "colab": {},
    "colab_type": "code",
    "id": "GeV0hiVRG5Bc"
   },
   "outputs": [],
   "source": [
    "#To plot the graphs for different hyperparameters [learning rate here] in a loop \n",
    "def plot_Plots(train_loss_list, train_acc_list, cmap):\n",
    "    fig = plt.figure(figsize=[15,5]) \n",
    "    #fig = plt.figure(figsize=[30,10])\n",
    "    plt.subplot(121)\n",
    "    plt.suptitle(f'Batch Size: {BatchSize}', fontsize=20)\n",
    "    for idx in range(len(learning_rate_list)):\n",
    "        plt.plot(range(num_epochs),train_loss_list[idx],cmap[idx],label=f'Loss (lr: {learning_rate_list[idx]})') \n",
    "    #plt.legend(loc='upper right')\n",
    "    plt.xlabel('Epochs')\n",
    "    plt.ylabel('Training Loss')\n",
    "    plt.subplot(122)\n",
    "    for idx in range(len(learning_rate_list)):\n",
    "        plt.plot(range(num_epochs),train_acc_list[idx],cmap[idx],label=f'Accuracy (lr: {learning_rate_list[idx]})') \n",
    "    #plt.legend(loc='upper right')\n",
    "    plt.xlabel('Epochs')\n",
    "    plt.ylabel('Accuracy')\n",
    "    plt.show()"
   ]
  },
  {
   "cell_type": "code",
   "execution_count": null,
   "metadata": {
    "colab": {
     "base_uri": "https://localhost:8080/",
     "height": 370
    },
    "colab_type": "code",
    "id": "3A55EHNnG5B5",
    "outputId": "2e006724-87f2-44b0-9dbf-76390d050c05"
   },
   "outputs": [],
   "source": [
    "cmap = ['b','g','r','c','m','y','k','w']\n",
    "plot_Plots(train_loss_list, train_acc_list,cmap)"
   ]
  },
  {
   "cell_type": "markdown",
   "metadata": {
    "colab_type": "text",
    "id": "TqaOyH0wG5Cw"
   },
   "source": [
    "### Testing of trained model\n"
   ]
  },
  {
   "cell_type": "code",
   "execution_count": null,
   "metadata": {
    "colab": {
     "base_uri": "https://localhost:8080/",
     "height": 34
    },
    "colab_type": "code",
    "id": "DfbV9qOlG5C1",
    "outputId": "3707904b-01bc-424f-a3f0-258fb84ee795"
   },
   "outputs": [],
   "source": [
    "# Testing is being done of best hyperparameter observed from repeated runs\n",
    "# Best hyperparameter is the last parameter in the list of hyperparams\n",
    "correct_pred = 0\n",
    "net.eval()\n",
    "for i, data in enumerate(testLoader):\n",
    "    inputs,labels = data\n",
    "    if use_gpu:\n",
    "        inputs, labels = inputs.cuda(),labels.cuda()\n",
    "    # Feedforward train data batch through model\n",
    "    output = net(inputs) \n",
    "    # Predicted class is the one with maximum probability\n",
    "    preds = torch.argmax(output,dim=1)\n",
    "    correct_pred += torch.sum(preds==labels)\n",
    "    if torch.sum(preds != labels):\n",
    "        pass\n",
    "        #print(f'[{i}] Preds: {preds} and labels: {labels}')\n",
    "        #if i > 20: break\n",
    "\n",
    "test_accuracy = correct_pred.item()/test_sz\n",
    "print('[+] Testing accuracy = ',test_accuracy*100)\n"
   ]
  },
  {
   "cell_type": "code",
   "execution_count": null,
   "metadata": {
    "colab": {},
    "colab_type": "code",
    "id": "rCsDjopO7z4S"
   },
   "outputs": [],
   "source": []
  }
 ],
 "metadata": {
  "accelerator": "GPU",
  "colab": {
   "name": "15EC34002.ipynb",
   "provenance": []
  },
  "kernelspec": {
   "display_name": "Python 3",
   "language": "python",
   "name": "python3"
  },
  "language_info": {
   "codemirror_mode": {
    "name": "ipython",
    "version": 3
   },
   "file_extension": ".py",
   "mimetype": "text/x-python",
   "name": "python",
   "nbconvert_exporter": "python",
   "pygments_lexer": "ipython3",
   "version": "3.7.4"
  }
 },
 "nbformat": 4,
 "nbformat_minor": 1
}
